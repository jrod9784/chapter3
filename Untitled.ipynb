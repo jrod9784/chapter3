{
 "cells": [
  {
   "cell_type": "code",
   "execution_count": 1,
   "id": "9c04b380",
   "metadata": {},
   "outputs": [
    {
     "name": "stdout",
     "output_type": "stream",
     "text": [
      "24.0\n",
      "24\n",
      "86400\n",
      "3600\n"
     ]
    }
   ],
   "source": [
    "seconds = 60\n",
    "minute = 60\n",
    "seconds_per_hour = minute * seconds  # 3600\n",
    "seconds_per_day = seconds_per_hour * 24  # 86400\n",
    "print(seconds_per_day / seconds_per_hour)  # 24.0\n",
    "print(seconds_per_day // seconds_per_hour)  # 24 -- yes\n",
    "print(seconds_per_day)\n",
    "print(seconds_per_hour)"
   ]
  },
  {
   "cell_type": "markdown",
   "id": "3bb19c96",
   "metadata": {},
   "source": [
    "using // instead of / generates the same number in this case, but without the .0. if the division was not square such as 24//5 or 24 /5 does not generate the same number, 4 and 4.8 respectively"
   ]
  }
 ],
 "metadata": {
  "kernelspec": {
   "display_name": "Python 3 (ipykernel)",
   "language": "python",
   "name": "python3"
  },
  "language_info": {
   "codemirror_mode": {
    "name": "ipython",
    "version": 3
   },
   "file_extension": ".py",
   "mimetype": "text/x-python",
   "name": "python",
   "nbconvert_exporter": "python",
   "pygments_lexer": "ipython3",
   "version": "3.9.12"
  }
 },
 "nbformat": 4,
 "nbformat_minor": 5
}
